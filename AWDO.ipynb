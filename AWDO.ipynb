{
 "cells": [
  {
   "cell_type": "markdown",
   "metadata": {
    "deletable": true,
    "editable": true
   },
   "source": [
    "# Sample Code for the Adaptive Wind Driven Optimization\n",
    "\n",
    "A simple sample Python code for the Adaptive Wind Driven Optimization is presented below. The coefficients of the WDO are optimized by the CMEAS algorithm. No additional cost function calls are needed for CMAES runs.\n",
    "\n",
    "#### Contact Information:\n",
    "- Zikri Bayraktar, Ph.D. \n",
    "- Email: thewdoalgorithm@gmail.com\n",
    "\n",
    "### DISCLAIMER: This sample code is provided as is and only for educational purposes.  Please also read the referred papers to better understand the variables as well as the inner-workings of the algorithms. Use it at your own risk! There is no guarantee that the code is bug free.\n",
    "<br>\n",
    "\n",
    "\n",
    "\n",
    "WDO REFERENCE PAPERS:\n",
    "Please refer to the following <b>TWO</b> articles in your publications if you use this code:\n",
    "\n",
    "1.) Z. Bayraktar, and M. Komurcu, \"Adaptive Wind Driven Optimization,\" \n",
    "Proceedings of the 9th EAI International Conference on Bio-inspired Information and \n",
    "Communications Technologies (Formerly BIONETICS) on 9th EAI International Conference \n",
    "on Bio-inspired Information and Communications Technologies (Formerly BIONETICS), \n",
    "New York City, NY, Dec. 3-5, 2015.\n",
    "http://dl.acm.org/citation.cfm?id=2954811&CFID=806983354&CFTOKEN=67304345\n",
    "\n",
    "2.) Z. Bayraktar, M. Komurcu, J. A. Bossard and D. H. Werner, \"The Wind \n",
    "Driven Optimization Technique and its Application in Electromagnetics,\" \n",
    "IEEE Transactions on Antennas and Propagation, Volume 61, Issue 5, \n",
    "pages 2745 - 2757, May 2013.\n",
    "http://ieeexplore.ieee.org/xpl/articleDetails.jsp?arnumber=6407788&newsearch=true&queryText=wind%20driven%20optimization\n",
    "\n"
   ]
  },
  {
   "cell_type": "code",
   "execution_count": 1,
   "metadata": {
    "collapsed": false,
    "deletable": true,
    "editable": true
   },
   "outputs": [],
   "source": [
    "# import some modules:\n",
    "from ctypes import *\n",
    "from numpy.ctypeslib import ndpointer\n",
    "import numpy as np\n",
    "import sys\n",
    "import platform\n",
    "\n",
    "import math\n",
    "import random\n",
    "import scipy as sp \n",
    "import numpy.matlib\n",
    "#from numpy import linalg as LA\n",
    "from numpy import linalg as LA\n",
    "from IPython.core.debugger import set_trace"
   ]
  },
  {
   "cell_type": "markdown",
   "metadata": {
    "deletable": true,
    "editable": true
   },
   "source": [
    "### Define cost function here:"
   ]
  },
  {
   "cell_type": "code",
   "execution_count": 2,
   "metadata": {
    "collapsed": true,
    "deletable": true,
    "editable": true
   },
   "outputs": [],
   "source": [
    "def CostFunct(x):\n",
    "    return np.sum( (x-5) * (x-5) )"
   ]
  },
  {
   "cell_type": "markdown",
   "metadata": {
    "collapsed": false,
    "deletable": true,
    "editable": true
   },
   "source": [
    "### Define the modified version of the CMAES, which optimizes WDO inherent parameters:"
   ]
  },
  {
   "cell_type": "code",
   "execution_count": 3,
   "metadata": {
    "collapsed": false,
    "deletable": true,
    "editable": true
   },
   "outputs": [],
   "source": [
    "def cmaes(counteval, rec, npop, pres, dim): \n",
    "    # Refer to purecmaes.m -- https://www.lri.fr/~hansen/purecmaes.m\n",
    "    # \n",
    "    # counteval -- Iteration counter from WDO.\n",
    "    # rec -- Record of prior values used in CMAES.\n",
    "    # npop -- number of population members from WDO, each member gets their own set of coefficients determined by the CMAES.\n",
    "    # pres -- pressure(cost function) computed by WDO for the set of coefficients that CMEAS picked last iteration\n",
    "    # dim -- number of dimensions of CMAES optimization\n",
    "    \n",
    "    if counteval==1:   #Initialization step\n",
    "        # define 'records' dictionary to keep track the CMAES values over iterations. \n",
    "        #print('Init Stage')\n",
    "        rec['N'] = dim\n",
    "        rec['xmean'] = np.random.rand(dim,1)\n",
    "        rec['sigma'] = 0.5\n",
    "        rec['lambda'] = npop\n",
    "        rec['mu'] = npop/2\n",
    "        rec['weights'] = np.log((npop/2)+1/2) - np.log(np.arange(1,np.floor(npop/2)+1))\n",
    "        rec['mu'] = np.floor(rec['mu']).astype(int)\n",
    "        rec['weights'] = rec['weights']/np.sum(rec['weights'])\n",
    "        rec['mueff'] = np.square(np.sum(rec['weights'])) / np.sum( rec['weights'] * rec['weights'])\n",
    "        rec['cc'] = (4+rec['mueff']/rec['N']) / (rec['N']+4 +2*rec['mueff']/rec['N'])\n",
    "        rec['cs'] = (rec['mueff']+2) / (rec['N'] + rec['mueff']+5)\n",
    "        rec['c1'] = 2 / ((np.square(rec['N']+1.3)) + rec['mueff'])\n",
    "        rec['cmu'] = min(1-rec['c1'], 2*(rec['mueff']-2+1/rec['mueff'])/(np.square(rec['N']+2)+rec['mueff']))\n",
    "        rec['damps'] = 1 + 2*max(0, np.sqrt((rec['mueff'] -1)/(rec['N']+1))-1) + rec['cs']\n",
    "        rec['pc'] = np.zeros(dim)\n",
    "        rec['ps'] = np.zeros(dim)\n",
    "        rec['B'] = np.eye(dim,dim)\n",
    "        rec['D'] = np.ones(dim)\n",
    "        rec['C'] = np.matmul(  np.matmul( rec['B'], np.diag(np.power(rec['D'],2)) ) , rec['B'].T  )\n",
    "        rec['invsqrtC'] = np.matmul( np.matmul(rec['B'], np.diag(np.power(rec['D'],-1))) , rec['B']) \n",
    "        rec['eigeneval'] = 0\n",
    "        rec['chiN'] = np.power(rec['N'],0.5)* (1-1/(4+rec['N'])+1/(21*np.square(rec['N'])) )\n",
    "        \n",
    "        \n",
    "    #get fitness from WDO pressure\n",
    "    rec['arfitness'] = pres\n",
    "    # sort fitness and compute weighted mean into xmean\n",
    "    arindex = np.argsort(pres)\n",
    "    rec['arindex'] = arindex\n",
    "    rec['arfitness'] = np.sort(pres)\n",
    "    rec['xold'] = rec['xmean']\n",
    "    mu = rec['mu']\n",
    "    ridx = arindex[0:mu.astype(int)]\n",
    "    recarx = np.array(rec['arx'])\n",
    "    rec['xmean'] = np.matmul(  recarx[:,ridx], rec['weights'] ).reshape(dim,1)            \n",
    "    \n",
    "    rec['ps'] = (1-rec['cs']) * rec['ps'] + np.sqrt(rec['cs']*(2-rec['cs'])*rec['mueff'])  * np.matmul(rec['invsqrtC'] , (rec['xmean']-rec['xold'])).T / rec['sigma']\n",
    "    rec['hsig'] = int( np.sum(rec['ps']*rec['ps']) / (1-np.power((1-rec['cs']),(2*counteval/rec['lambda']))) / rec['N']  <  2+(4/(rec['N']+1))   )\n",
    "    rec['pc'] = (1-rec['cc']) * rec['pc'] + rec['hsig'] * np.sqrt(rec['cc']*(2-rec['cc'])*rec['mueff']) * (rec['xmean']-rec['xold']).T / rec['sigma']       \n",
    "    rec['artmp'] = (1/rec['sigma']) * (recarx[:,ridx]) -np.matlib.repmat(rec['xold'],1,rec['mu'])\n",
    "\n",
    "    rec['C'] = (1-rec['c1']-rec['cmu']) * rec['C'] \\\n",
    "                    + rec['c1'] * (rec['pc'] * rec['pc'].T + (1-rec['hsig']) * rec['cc']*(2-rec['cc']) * rec['C']) \\\n",
    "                    + rec['cmu'] * np.matmul( np.matmul(rec['artmp'] , np.diag(rec['weights'])) , rec['artmp'].T)\n",
    "    \n",
    "    rec['sigma'] = rec['sigma']*np.exp( (rec['cs']/rec['damps'])*(LA.norm(rec['ps'])/rec['chiN']-1) )\n",
    "    \n",
    "    if (counteval-rec['eigeneval']) >  (rec['lambda'] / (rec['c1']+rec['cmu'])/rec['N']/10):\n",
    "        rec['eigeneval'] = counteval\n",
    "        rec['C'] = np.triu(rec['C']) + np.triu(rec['C'],1).T\n",
    "        rec['D'], rec['B'] = LA.eigh(rec['C'])\n",
    "        rec['D'] = np.sqrt(rec['D'])\n",
    "        rec['invsqrtC'] = np.matmul( np.matmul(rec['B'], np.diag( rec['D']**(-1)) )  , rec['B'].T)\n",
    "        \n",
    "        \n",
    "    for k in range(1,rec['lambda']):\n",
    "        recarx[:,k] = rec['xmean'].T + (rec['sigma']* np.matmul(rec['B'], ((rec['D']*( np.random.standard_normal(size=(rec['N'],1))).T)).reshape(dim,1) )).T\n",
    "    rec['arx'] = recarx\n",
    "    \n",
    "    return rec"
   ]
  },
  {
   "cell_type": "code",
   "execution_count": null,
   "metadata": {
    "collapsed": false,
    "deletable": true,
    "editable": true
   },
   "outputs": [],
   "source": []
  },
  {
   "cell_type": "markdown",
   "metadata": {
    "deletable": true,
    "editable": true
   },
   "source": [
    "### Define WDO parameters and run initial population"
   ]
  },
  {
   "cell_type": "code",
   "execution_count": 34,
   "metadata": {
    "collapsed": false,
    "deletable": true,
    "editable": true
   },
   "outputs": [],
   "source": [
    "popsize = 100    # population size\n",
    "npar = 10        # dimension of the problem\n",
    "maxit = 3000     # max number of iterations\n",
    "maxV = 0.3      # max allowed speed\n",
    "dimMin = -10      # lower dimension boundary\n",
    "dimMax = 10      # upper dimension boundary\n",
    "\n",
    "# randomly initialize the CMAES population\n",
    "rec = {'arx': np.random.rand(4,popsize) }\n",
    "alp = rec['arx'][0,:]\n",
    "g = rec['arx'][1,:]\n",
    "c = rec['arx'][2,:]\n",
    "RT = rec['arx'][3,:]\n",
    "#----------------------------------------------------------\n",
    "\n",
    "# Initialize WDO population position, and velocity:\n",
    "# Randomize population in the range of [-1,1]:\n",
    "pos = 2 * (np.random.rand(popsize, npar) - 0.5)\n",
    "vel = maxV * 2 * (np.random.rand(popsize, npar) - 0.5)\n",
    "#----------------------------------------------------------\n",
    "\n",
    "# Evaluate initial population: (Sphere Function)\n",
    "pres = np.zeros((popsize))  # initialize the pres vector to zeros.\n",
    "a=pres.shape # size of the pres\n",
    "\n",
    "for i in range(0, popsize): #pyhon index starts from 0 !!!\n",
    "    x = ((dimMax-dimMin) * (pos[i,:]+1)/2) + dimMin\n",
    "    pres[i] = CostFunct(x)"
   ]
  },
  {
   "cell_type": "code",
   "execution_count": null,
   "metadata": {
    "collapsed": false,
    "deletable": true,
    "editable": true
   },
   "outputs": [],
   "source": []
  },
  {
   "cell_type": "code",
   "execution_count": 35,
   "metadata": {
    "collapsed": false,
    "deletable": true,
    "editable": true
   },
   "outputs": [],
   "source": [
    "#----------------------------------------------------------\n",
    "# Finding best air parcel in the initial population :\n",
    "\n",
    "globalpres = pres.min()         # minimum pressure\n",
    "minIndx = np.where(pres == pres.min())  # index of minimum pressure\n",
    "globalpos = pos[minIndx,:]       # position vector for the minimum\n",
    "globalpos = globalpos.flatten()\n",
    "\n",
    "minpres = np.zeros(maxit)\n",
    "keepglob = np.zeros(maxit)\n",
    "\n",
    "indx = np.argsort(pres)      # index of sorted\n",
    "pos = pos[indx,:]\n",
    "minpres[0] = globalpres       # save the minimum pressure\n",
    "keepglob[0] = globalpres;   \n",
    "#-----------------------------------------------------------------\n",
    "\n",
    "velot = np.zeros((popsize, npar))\n",
    "keepglob = np.ones(maxit)"
   ]
  },
  {
   "cell_type": "code",
   "execution_count": null,
   "metadata": {
    "collapsed": false,
    "deletable": true,
    "editable": true
   },
   "outputs": [],
   "source": []
  },
  {
   "cell_type": "code",
   "execution_count": 36,
   "metadata": {
    "collapsed": false,
    "deletable": true,
    "editable": true
   },
   "outputs": [
    {
     "name": "stdout",
     "output_type": "stream",
     "text": [
      "iteration  1 pressure  97.7470429138\n",
      "iteration  2 pressure  69.1278831398\n",
      "iteration  3 pressure  47.6562130159\n",
      "iteration  4 pressure  11.0549610688\n",
      "iteration  5 pressure  8.1159444509\n",
      "iteration  6 pressure  4.24381517536\n",
      "iteration  8 pressure  3.45595116051\n",
      "iteration  9 pressure  0.596770619042\n",
      "iteration  12 pressure  0.338470888718\n",
      "iteration  13 pressure  0.061237748476\n",
      "iteration  18 pressure  0.04226138021\n",
      "iteration  32 pressure  0.0157533685078\n",
      "iteration  78 pressure  0.0\n"
     ]
    }
   ],
   "source": [
    "# Start iterations:\n",
    "itr = 1 #iteration counter\n",
    "for ij in range(1,maxit):\n",
    "    #update velocity\n",
    "    for i in range(popsize):\n",
    "        a = np.random.permutation(range(0,npar)) #random perm    \n",
    "        velot[i,:] = 1*vel[i,a]\n",
    "        vel[i,:] =  (1-alp[i]) * vel[i,:] - (g[i]*pos[i,:]) + \\\n",
    "                    abs((1/(indx[i]+1))-1) *((globalpos-pos[i,:]*RT[i])) + \\\n",
    "                    (c[i]*velot[i,:]/(indx[i]+1))\n",
    "        #python index starts from zero, watch out for division by zero error!\n",
    "\n",
    "    #check velocity\n",
    "    vel=vel.clip(-maxV,maxV)\n",
    "    #update air parcel position\n",
    "    pos=pos+vel\n",
    "    pos=pos.clip(-1,1)\n",
    "        \n",
    "    #evaluate the new position\n",
    "    for i in range(0, popsize): #pyhon index starts from 0 !!!\n",
    "        x = ((dimMax-dimMin) * (pos[i,:]+1)/2) + dimMin\n",
    "        pres[i] = CostFunct(x)\n",
    "\n",
    "    # Finding best air parcel in the initial population :\n",
    "    mpres = pres.min()         # minimum pressure\n",
    "    mIndx = np.where(pres == pres.min())  # index of minimum pressure\n",
    "    gpos = pos[mIndx,:]       # position vector for the minimum\n",
    "    gpos = gpos.flatten()\n",
    "\n",
    "    indx = np.argsort(pres)     # index of sorted\n",
    "    #pos = pos[indx,:]           #sort position\n",
    "    #vel = vel[indx,:]           #sort velocity\n",
    "    \n",
    "    #update inherent parameters through cmaes:\n",
    "    x,y = rec['arx'].shape\n",
    "    rec = cmaes(ij,rec,popsize,pres,x)\n",
    "    alp = rec['arx'][0,:]\n",
    "    g = rec['arx'][1,:]\n",
    "    c = rec['arx'][2,:]\n",
    "    RT = rec['arx'][3,:]\n",
    "    \n",
    "    if mpres < globalpres:  #if lower pressure found, update the global min\n",
    "        globalpres = mpres\n",
    "        globalpos = gpos\n",
    "        print('iteration ',ij, 'pressure ' ,mpres)\n",
    "\n",
    "    keepglob[ij] = globalpres\n",
    "    \n",
    "    \n",
    "    if mpres <= 1e-7:\n",
    "        break    #finish"
   ]
  },
  {
   "cell_type": "code",
   "execution_count": 7,
   "metadata": {
    "collapsed": true,
    "deletable": true,
    "editable": true
   },
   "outputs": [],
   "source": [
    "# End of file"
   ]
  }
 ],
 "metadata": {
  "kernelspec": {
   "display_name": "Python 3",
   "language": "python",
   "name": "python3"
  },
  "language_info": {
   "codemirror_mode": {
    "name": "ipython",
    "version": 3
   },
   "file_extension": ".py",
   "mimetype": "text/x-python",
   "name": "python",
   "nbconvert_exporter": "python",
   "pygments_lexer": "ipython3",
   "version": "3.5.3"
  }
 },
 "nbformat": 4,
 "nbformat_minor": 2
}
