{
 "cells": [
  {
   "cell_type": "markdown",
   "metadata": {
    "deletable": true,
    "editable": true
   },
   "source": [
    "## Adaptive Wind Driven Optimization submission to the Black Box Optimization Competition\n",
    "### BBComp: https://bbcomp.ini.rub.de/\n",
    "\n",
    "<p> BBComp — the black box optimization competition — is the first competition in continuous black-box optimization where test problems are truly black boxes for participants. It is also the first web/online optimization competition in the direct search domain.\n",
    "\n",
    "This submission is prepared by\n",
    "- Zikri Bayraktar, Ph.D.\n",
    "- thewdoalgorithm@gmail.com\n",
    "- http://www.thewdo.com\n",
    "\n",
    "For more info and sample codes on AWDO, please visit the homepage!\n",
    "\n",
    "### If you use this code, please refer to the following two papers in your publications.\n",
    "1. Z. Bayraktar, M. Komurcu, J. A. Bossard and D. H. Werner, \"The Wind Driven Optimization Technique and its Application in Electromagnetics,\" IEEE Transactions on Antennas and Propagation, Volume 61, Issue 5, pages 2745 - 2757, May 2013.\n",
    "2. Zikri Bayraktar and Muge Komurcu, \"Adaptive Wind Driven Optimization,\" Proceedings of the 9th EAI International Conference on Bio-Inspired Information and Communications Technologies (formerly BIONETICS), New York City, NY, Dec. 3-5, 2015.\n",
    "\n",
    "#### Please note that the code is released for educational/academic purposes and it may contain bugs, hence use at your own risk."
   ]
  },
  {
   "cell_type": "code",
   "execution_count": 1,
   "metadata": {
    "collapsed": true,
    "deletable": true,
    "editable": true
   },
   "outputs": [],
   "source": [
    "# import some modules:\n",
    "from ctypes import *\n",
    "from numpy.ctypeslib import ndpointer\n",
    "import numpy as np\n",
    "import sys\n",
    "import platform\n",
    "\n",
    "import math\n",
    "import random\n",
    "import scipy as sp \n",
    "import numpy.matlib\n",
    "from numpy import linalg as LA"
   ]
  },
  {
   "cell_type": "code",
   "execution_count": 2,
   "metadata": {
    "collapsed": false,
    "deletable": true,
    "editable": true
   },
   "outputs": [],
   "source": [
    "# get competition library name:\n",
    "dllname = \"\"\n",
    "if platform.system() == \"Windows\":\n",
    "    dllname = \"./bbcomp.dll\"\n",
    "elif platform.system() == \"Linux\":\n",
    "    dllname = \"./libbbcomp.so\"\n",
    "elif platform.system() == \"Darwin\":\n",
    "    dllname = \"./libbbcomp.dylib\"\n",
    "else:\n",
    "    sys.exit(\"unknown platform\")\n",
    "    \n",
    "\n",
    "# initialize dynamic library\n",
    "bbcomp = CDLL(dllname)\n",
    "bbcomp.configure.restype = c_int\n",
    "bbcomp.login.restype = c_int\n",
    "bbcomp.numberOfTracks.restype = c_int\n",
    "bbcomp.trackName.restype = c_char_p\n",
    "bbcomp.setTrack.restype = c_int\n",
    "bbcomp.numberOfProblems.restype = c_int\n",
    "bbcomp.setProblem.restype = c_int\n",
    "bbcomp.dimension.restype = c_int\n",
    "bbcomp.numberOfObjectives.restype = c_int\n",
    "bbcomp.budget.restype = c_int\n",
    "bbcomp.evaluations.restype = c_int\n",
    "bbcomp.evaluate.restype = c_int\n",
    "bbcomp.evaluate.argtypes = [ndpointer(c_double, flags=\"C_CONTIGUOUS\"), ndpointer(c_double, flags=\"C_CONTIGUOUS\")]\n",
    "bbcomp.history.restype = c_int\n",
    "bbcomp.history.argtypes = [c_int, ndpointer(c_double, flags=\"C_CONTIGUOUS\"), ndpointer(c_double, flags=\"C_CONTIGUOUS\")]\n",
    "bbcomp.errorMessage.restype = c_char_p"
   ]
  },
  {
   "cell_type": "code",
   "execution_count": 3,
   "metadata": {
    "collapsed": false,
    "deletable": true,
    "editable": true
   },
   "outputs": [
    {
     "name": "stdout",
     "output_type": "stream",
     "text": [
      "----------------------------------------------\n",
      "black box example competition client in Python\n",
      "----------------------------------------------\n"
     ]
    }
   ],
   "source": [
    "print(\"----------------------------------------------\")\n",
    "print(\"black box example competition client in Python\")\n",
    "print(\"----------------------------------------------\")\n",
    "\n",
    "# change the track name to trialMO for multi-objective optimization\n",
    "#track = \"trial\"\n",
    "# track = \"trialMO\"\n",
    "track = \"BBComp2017-1OBJ\""
   ]
  },
  {
   "cell_type": "markdown",
   "metadata": {},
   "source": [
    "Replace the keywords << username_here >> and  << password_here >> below to be able to login to the competition servers."
   ]
  },
  {
   "cell_type": "code",
   "execution_count": 4,
   "metadata": {
    "collapsed": false,
    "deletable": true,
    "editable": true
   },
   "outputs": [
    {
     "name": "stdout",
     "output_type": "stream",
     "text": [
      "login successful\n"
     ]
    }
   ],
   "source": [
    "# set configuration options (this is optional)\n",
    "result = bbcomp.configure(1, \"logs/\".encode('ascii'))\n",
    "if result == 0:\n",
    "    sys.exit(\"configure() failed: \" + str(bbcomp.errorMessage()))\n",
    "\n",
    "# login with demo account - this should grant access to the \"trial\" and \"trialMO\" tracks (for testing and debugging)\n",
    "result = bbcomp.login(\"username_here\".encode('ascii'), \"password_here\".encode('ascii'))\n",
    "if result == 0:\n",
    "    sys.exit(\"login() failed: \" + str(bbcomp.errorMessage().decode(\"ascii\")))\n",
    "\n",
    "print(\"login successful\")"
   ]
  },
  {
   "cell_type": "code",
   "execution_count": null,
   "metadata": {
    "collapsed": true,
    "deletable": true,
    "editable": true
   },
   "outputs": [],
   "source": []
  },
  {
   "cell_type": "code",
   "execution_count": 5,
   "metadata": {
    "collapsed": false,
    "deletable": true,
    "editable": true
   },
   "outputs": [],
   "source": [
    "# request the tracks available to this user (this is optional)\n",
    "numTracks = bbcomp.numberOfTracks()\n",
    "if numTracks == 0:\n",
    "    sys.exit(\"numberOfTracks() failed: \" + str(bbcomp.errorMessage().decode(\"ascii\")))"
   ]
  },
  {
   "cell_type": "code",
   "execution_count": 6,
   "metadata": {
    "collapsed": false,
    "deletable": true,
    "editable": true
   },
   "outputs": [
    {
     "name": "stdout",
     "output_type": "stream",
     "text": [
      "7 track(s):\n",
      "  0: trial\n",
      "  1: trialMO\n",
      "  2: BBComp2017-1OBJ\n",
      "  3: BBComp2017-1OBJ-expensive\n",
      "  4: BBComp2017-2OBJ\n",
      "  5: BBComp2017-2OBJ-expensive\n",
      "  6: BBComp2017-3OBJ\n"
     ]
    }
   ],
   "source": [
    "print(str(numTracks) + \" track(s):\")\n",
    "for i in range(numTracks):\n",
    "    trackname = bbcomp.trackName(i).decode(\"ascii\")\n",
    "    if bool(trackname) == False:\n",
    "        sys.exit(\"trackName() failed: \" + str(bbcomp.errorMessage().decode(\"ascii\")))\n",
    "\n",
    "    print(\"  \" + str(i) + \": \" + trackname)"
   ]
  },
  {
   "cell_type": "code",
   "execution_count": 7,
   "metadata": {
    "collapsed": false,
    "deletable": true,
    "editable": true
   },
   "outputs": [
    {
     "name": "stdout",
     "output_type": "stream",
     "text": [
      "track set to BBComp2017-1OBJ\n"
     ]
    }
   ],
   "source": [
    "# set the track\n",
    "result = bbcomp.setTrack(track.encode('ascii'))\n",
    "if result == 0:\n",
    "    sys.exit(\"setTrack() failed: \" + str(bbcomp.errorMessage().decode(\"ascii\")))\n",
    "\n",
    "print(\"track set to \" + track)"
   ]
  },
  {
   "cell_type": "code",
   "execution_count": 8,
   "metadata": {
    "collapsed": false,
    "deletable": true,
    "editable": true
   },
   "outputs": [
    {
     "name": "stdout",
     "output_type": "stream",
     "text": [
      "The track consists of 1000 problems.\n"
     ]
    }
   ],
   "source": [
    "# obtain number of problems in the track\n",
    "numProblems = bbcomp.numberOfProblems()\n",
    "if numProblems == 0:\n",
    "    sys.exit(\"numberOfProblems() failed: \" << str(bbcomp.errorMessage().decode(\"ascii\")))\n",
    "\n",
    "print(\"The track consists of \" + str(numProblems) + \" problems.\")"
   ]
  },
  {
   "cell_type": "code",
   "execution_count": 9,
   "metadata": {
    "collapsed": false,
    "deletable": true,
    "editable": true
   },
   "outputs": [
    {
     "name": "stdout",
     "output_type": "stream",
     "text": [
      "Problem ID set to 0\n"
     ]
    }
   ],
   "source": [
    "# For demonstration purposes we optimize only the first problem in the track.\n",
    "problemID = 0\n",
    "result = bbcomp.setProblem(problemID)\n",
    "if result == 0:\n",
    "    sys.exit(\"setProblem() failed: \" + str(bbcomp.errorMessage().decode(\"ascii\")))\n",
    "\n",
    "print(\"Problem ID set to \" + str(problemID))"
   ]
  },
  {
   "cell_type": "code",
   "execution_count": 10,
   "metadata": {
    "collapsed": false,
    "deletable": true,
    "editable": true
   },
   "outputs": [
    {
     "name": "stdout",
     "output_type": "stream",
     "text": [
      "2\n"
     ]
    }
   ],
   "source": [
    "# obtain problem properties\n",
    "dim = bbcomp.dimension()\n",
    "if dim == 0:\n",
    "    sys.exit(\"dimension() failed: \" + str(bbcomp.errorMessage().decode(\"ascii\")))\n",
    "print(dim)"
   ]
  },
  {
   "cell_type": "code",
   "execution_count": 11,
   "metadata": {
    "collapsed": false,
    "deletable": true,
    "editable": true
   },
   "outputs": [],
   "source": [
    "obj = bbcomp.numberOfObjectives()\n",
    "if dim == 0:\n",
    "    sys.exit(\"numberOfObjectives() failed: \" + str(bbcomp.errorMessage().decode(\"ascii\")))\n",
    "\n",
    "bud = bbcomp.budget()\n",
    "if bud == 0:\n",
    "    sys.exit(\"budget() failed: \" + str(bbcomp.errorMessage().decode(\"ascii\")))\n",
    "\n",
    "evals = bbcomp.evaluations()\n",
    "if evals < 0:\n",
    "    sys.exit(\"evaluations() failed: \" + str(bbcomp.errorMessage().decode(\"ascii\")))"
   ]
  },
  {
   "cell_type": "code",
   "execution_count": 12,
   "metadata": {
    "collapsed": false,
    "deletable": true,
    "editable": true
   },
   "outputs": [
    {
     "name": "stdout",
     "output_type": "stream",
     "text": [
      "problem dimension: 2\n",
      "number of objectives: 1\n",
      "problem budget: 400\n",
      "number of already used up evaluations: 400\n"
     ]
    }
   ],
   "source": [
    "print(\"problem dimension: \" + str(dim))\n",
    "print(\"number of objectives: \" + str(obj))\n",
    "print(\"problem budget: \" + str(bud))\n",
    "print(\"number of already used up evaluations: \" + str(evals))\n",
    "\n",
    "# allocate memory for a search point\n",
    "point = np.zeros(dim)\n",
    "value = np.zeros(obj)"
   ]
  },
  {
   "cell_type": "code",
   "execution_count": null,
   "metadata": {
    "collapsed": false,
    "deletable": true,
    "editable": true
   },
   "outputs": [],
   "source": []
  },
  {
   "cell_type": "code",
   "execution_count": 13,
   "metadata": {
    "collapsed": false,
    "deletable": true,
    "editable": true
   },
   "outputs": [],
   "source": [
    "def cmaes(counteval, rec, npop, pres, dim): \n",
    "    # Refer to purecmaes.m -- https://www.lri.fr/~hansen/purecmaes.m\n",
    "    # \n",
    "    # counteval -- Iteration counter from WDO.\n",
    "    # rec -- Record of prior values used in CMAES.\n",
    "    # npop -- number of population members from WDO, each member gets their own set of coefficients determined by the CMAES.\n",
    "    # pres -- pressure(cost function) computed by WDO for the set of coefficients that CMEAS picked last iteration\n",
    "    # dim -- number of dimensions of CMAES optimization\n",
    "    \n",
    "    if counteval==1:   #Initialization step\n",
    "        # define 'records' dictionary to keep track the CMAES values over iterations. \n",
    "        #print('Init Stage')\n",
    "        rec['N'] = dim\n",
    "        rec['xmean'] = np.random.rand(dim,1)\n",
    "        rec['sigma'] = 0.5\n",
    "        rec['lambda'] = npop\n",
    "        rec['mu'] = npop/2\n",
    "        rec['weights'] = np.log((npop/2)+1/2) - np.log(np.arange(1,np.floor(npop/2)+1))\n",
    "        rec['mu'] = np.floor(rec['mu']).astype(int)\n",
    "        rec['weights'] = rec['weights']/np.sum(rec['weights'])\n",
    "        rec['mueff'] = np.square(np.sum(rec['weights'])) / np.sum( rec['weights'] * rec['weights'])\n",
    "        rec['cc'] = (4+rec['mueff']/rec['N']) / (rec['N']+4 +2*rec['mueff']/rec['N'])\n",
    "        rec['cs'] = (rec['mueff']+2) / (rec['N'] + rec['mueff']+5)\n",
    "        rec['c1'] = 2 / ((np.square(rec['N']+1.3)) + rec['mueff'])\n",
    "        rec['cmu'] = min(1-rec['c1'], 2*(rec['mueff']-2+1/rec['mueff'])/(np.square(rec['N']+2)+rec['mueff']))\n",
    "        rec['damps'] = 1 + 2*max(0, np.sqrt((rec['mueff'] -1)/(rec['N']+1))-1) + rec['cs']\n",
    "        rec['pc'] = np.zeros(dim)\n",
    "        rec['ps'] = np.zeros(dim)\n",
    "        rec['B'] = np.eye(dim,dim)\n",
    "        rec['D'] = np.ones(dim)\n",
    "        rec['C'] = np.matmul(  np.matmul( rec['B'], np.diag(np.power(rec['D'],2)) ) , rec['B'].T  )\n",
    "        rec['invsqrtC'] = np.matmul( np.matmul(rec['B'], np.diag(np.power(rec['D'],-1))) , rec['B']) \n",
    "        rec['eigeneval'] = 0\n",
    "        rec['chiN'] = np.power(rec['N'],0.5)* (1-1/(4+rec['N'])+1/(21*np.square(rec['N'])) )\n",
    "        \n",
    "        \n",
    "    #get fitness from WDO pressure\n",
    "    rec['arfitness'] = pres\n",
    "    # sort fitness and compute weighted mean into xmean\n",
    "    arindex = np.argsort(pres)\n",
    "    rec['arindex'] = arindex\n",
    "    rec['arfitness'] = np.sort(pres)\n",
    "    rec['xold'] = rec['xmean']\n",
    "    mu = rec['mu']\n",
    "    ridx = arindex[0:mu.astype(int)]\n",
    "    recarx = np.array(rec['arx'])\n",
    "    rec['xmean'] = np.matmul(  recarx[:,ridx], rec['weights'] ).reshape(dim,1)            \n",
    "    \n",
    "    rec['ps'] = (1-rec['cs']) * rec['ps'] + np.sqrt(rec['cs']*(2-rec['cs'])*rec['mueff'])  * np.matmul(rec['invsqrtC'] , (rec['xmean']-rec['xold'])).T / rec['sigma']\n",
    "    rec['hsig'] = int( np.sum(rec['ps']*rec['ps']) / (1-np.power((1-rec['cs']),(2*counteval/rec['lambda']))) / rec['N']  <  2+(4/(rec['N']+1))   )\n",
    "    rec['pc'] = (1-rec['cc']) * rec['pc'] + rec['hsig'] * np.sqrt(rec['cc']*(2-rec['cc'])*rec['mueff']) * (rec['xmean']-rec['xold']).T / rec['sigma']       \n",
    "    rec['artmp'] = (1/rec['sigma']) * (recarx[:,ridx]) -np.matlib.repmat(rec['xold'],1,rec['mu'])\n",
    "\n",
    "    rec['C'] = (1-rec['c1']-rec['cmu']) * rec['C'] \\\n",
    "                    + rec['c1'] * (rec['pc'] * rec['pc'].T + (1-rec['hsig']) * rec['cc']*(2-rec['cc']) * rec['C']) \\\n",
    "                    + rec['cmu'] * np.matmul( np.matmul(rec['artmp'] , np.diag(rec['weights'])) , rec['artmp'].T)\n",
    "    \n",
    "    rec['sigma'] = rec['sigma']*np.exp( (rec['cs']/rec['damps'])*(LA.norm(rec['ps'])/rec['chiN']-1) )\n",
    "    \n",
    "    if (counteval-rec['eigeneval']) >  (rec['lambda'] / (rec['c1']+rec['cmu'])/rec['N']/10):\n",
    "        rec['eigeneval'] = counteval\n",
    "        rec['C'] = np.triu(rec['C']) + np.triu(rec['C'],1).T\n",
    "        rec['D'], rec['B'] = LA.eigh(rec['C'])\n",
    "        rec['D'] = np.sqrt(rec['D'])\n",
    "        rec['invsqrtC'] = np.matmul( np.matmul(rec['B'], np.diag( rec['D']**(-1)) )  , rec['B'].T)\n",
    "        \n",
    "        \n",
    "    for k in range(1,rec['lambda']):\n",
    "        recarx[:,k] = rec['xmean'].T + (rec['sigma']* np.matmul(rec['B'], ((rec['D']*( np.random.standard_normal(size=(rec['N'],1))).T)).reshape(dim,1) )).T\n",
    "    rec['arx'] = recarx\n",
    "    \n",
    "    return rec"
   ]
  },
  {
   "cell_type": "code",
   "execution_count": 19,
   "metadata": {
    "collapsed": false
   },
   "outputs": [
    {
     "name": "stdout",
     "output_type": "stream",
     "text": [
      "Problem ID set to 786\n",
      "Dimensions :32\n",
      "Problem Budget set to 102400\n",
      "Problem ID set to 787\n",
      "Dimensions :32\n",
      "Problem Budget set to 102400\n",
      "Problem ID set to 788\n",
      "Dimensions :32\n",
      "Problem Budget set to 102400\n",
      "Problem ID set to 789\n",
      "Dimensions :32\n",
      "Problem Budget set to 102400\n"
     ]
    }
   ],
   "source": [
    "# Run AWDO for every single problems in the track:\n",
    "for nump in range(0, numProblems):\n",
    "    \n",
    "    # For demonstration purposes we optimize only the first problem in the track.\n",
    "    problemID = nump\n",
    "    result = bbcomp.setProblem(problemID)\n",
    "    if result == 0:\n",
    "        sys.exit(\"setProblem() failed: \" + str(bbcomp.errorMessage().decode(\"ascii\")))\n",
    "\n",
    "    print(\"Problem ID set to \" + str(problemID))\n",
    "    #-------------------------------------------------------------------\n",
    "\n",
    "    # obtain problem properties\n",
    "    dim = bbcomp.dimension()\n",
    "    if dim == 0:\n",
    "        sys.exit(\"dimension() failed: \" + str(bbcomp.errorMessage().decode(\"ascii\")))\n",
    "    print(\"Dimensions :\" +str(dim))\n",
    "    #--------------------------------------------------------------------\n",
    "\n",
    "    bud = bbcomp.budget()\n",
    "    if bud == 0:\n",
    "        sys.exit(\"budget() failed: \" + str(bbcomp.errorMessage().decode(\"ascii\")))\n",
    "    print(\"Problem Budget set to \" + str(bud))\n",
    "    #-------------------------------------------------------------------\n",
    "\n",
    "#    popsize = dim+np.ceil(10*np.log10(dim)).astype(int)    # population size\n",
    "    popsize = np.floor(2*dim).astype(int)\n",
    "    npar = dim        # dimension of the problem\n",
    "    maxit = np.floor((bud/popsize)).astype(int)     # max number of iterations\n",
    "    leftover = bud - popsize*maxit  #leftover budget to run at the very end\n",
    "    \n",
    "    #print(bud, maxit, popsize, leftover)\n",
    "    maxV = 0.28      # max allowed speed\n",
    "    dimMin = 0      # lower dimension boundary\n",
    "    dimMax = 1      # upper dimension boundary\n",
    "\n",
    "    rec = dict()\n",
    "    # randomly initialize the CMAES population\n",
    "    rec = {'arx': np.random.rand(4,popsize) }\n",
    "    alp = rec['arx'][0,:]\n",
    "    g = rec['arx'][1,:]\n",
    "    c = rec['arx'][2,:]\n",
    "    RT = rec['arx'][3,:]\n",
    "    #----------------------------------------------------------\n",
    "\n",
    "    # Initialize WDO population position, and velocity:\n",
    "    # Randomize population in the range of [-1,1]:\n",
    "    pos = 2 * (np.random.rand(popsize, npar) - 0.5)\n",
    "    vel = maxV * 2 * (np.random.rand(popsize, npar) - 0.5)\n",
    "    #----------------------------------------------------------\n",
    "\n",
    "    # Evaluate initial population:\n",
    "    pres = 10000 * np.ones((popsize))  # initialize the \n",
    "    globalpres = 10000\n",
    "    globalpos = np.zeros(npar)\n",
    "    a=pres.shape # size of the pres\n",
    "\n",
    "    for i in range(0, popsize): #pyhon index starts from 0 !!!\n",
    "        x = ((dimMax-dimMin) * (pos[i,:]+1)/2) + dimMin\n",
    "        bbcomp.evaluate(x, value)\n",
    "        pres[i]=value\n",
    "    \n",
    "    #----------------------------------------------------------\n",
    "    # Finding best air parcel in the initial population :\n",
    "\n",
    "    globalpres = pres.min()         # minimum pressure\n",
    "    minIndx = np.where(pres == pres.min())  # index of minimum pressure\n",
    "    globalpos = pos[minIndx,:]       # position vector for the minimum\n",
    "\n",
    "    minpres = np.zeros(maxit)\n",
    "    keepglob = np.zeros(maxit)\n",
    "\n",
    "    indx = np.argsort(pres)      # index of sorted\n",
    "    pos = pos[indx,:]\n",
    "    minpres[0] = globalpres       # save the minimum pressure\n",
    "    keepglob[0] = globalpres;   \n",
    "    #-----------------------------------------------------------------\n",
    "\n",
    "    velot = np.zeros((popsize, npar))\n",
    "    keepglob = np.ones(maxit)\n",
    "    \n",
    "    # Start iterations:\n",
    "    itr = 1 #iteration counter\n",
    "    for ij in range(1,maxit):\n",
    "        #update velocity\n",
    "        for i in range(popsize):\n",
    "            a = np.random.permutation(range(0,npar)) #random perm    \n",
    "            velot[i,:] = 1*vel[i,a]\n",
    "            vel[i,:] = (1-alp[i]) * vel[i,:] - (g[i]*pos[i,:]) + \\\n",
    "                    abs((1/(i+1))-1) *((globalpos-pos[i,:]*RT[i])) + \\\n",
    "                    (c[i]*velot[i,:]/(i+1))\n",
    "            #python index starts from zero, watch out for division by zero error!\n",
    "\n",
    "        #check velocity\n",
    "        vel=vel.clip(-maxV,maxV)\n",
    "        #update air parcel position\n",
    "        pos=pos+vel\n",
    "        pos=pos.clip(-1,1)\n",
    "        \n",
    "        #evaluate the new position\n",
    "        for i in range(0, popsize): #pyhon index starts from 0 !!!\n",
    "            x = ((dimMax-dimMin) * (pos[i,:]+1)/2) + dimMin\n",
    "            bbcomp.evaluate(x, value)\n",
    "            pres[i]=value\n",
    "\n",
    "        # Finding best air parcel in the initial population :\n",
    "        mpres = pres.min()         # minimum pressure\n",
    "        mIndx = np.where(pres == pres.min())  # index of minimum pressure\n",
    "        gpos = pos[mIndx,:]       # position vector for the minimum\n",
    "\n",
    "        indx = np.argsort(pres)     # index of sorted\n",
    "        pos = pos[indx,:]           #sort position\n",
    "        vel = vel[indx,:]           #sort velocity\n",
    "\n",
    "        #update inherent parameters through cmaes every X iterations:\n",
    "        if np.mod(ij, 30) == 1:\n",
    "            x,y = rec['arx'].shape\n",
    "            rec = cmaes(ij,rec,popsize,pres,x)\n",
    "            alp = rec['arx'][0,:]\n",
    "            g = rec['arx'][1,:]\n",
    "            c = rec['arx'][2,:]\n",
    "            RT = rec['arx'][3,:]\n",
    "    \n",
    "        if mpres < globalpres:  #if lower pressure found, update the global min\n",
    "            globalpres = mpres\n",
    "            globalpos = gpos\n",
    "            #print(mpres)\n",
    "        \n",
    "        keepglob[ij] = globalpres\n",
    "    \n",
    "    #Evaluate the leftover budget at the very end:\n",
    "    for i in range(0, leftover): #pyhon index starts from 0 !!!\n",
    "        x = ((dimMax-dimMin) * (pos[i,:]+1)/2) + dimMin\n",
    "        bbcomp.evaluate(x, value)\n",
    "        pres[i]=value\n",
    "\n",
    "    #print(\"Best cost for this problem \" + str(globalpres))"
   ]
  },
  {
   "cell_type": "code",
   "execution_count": null,
   "metadata": {
    "collapsed": false
   },
   "outputs": [],
   "source": []
  },
  {
   "cell_type": "code",
   "execution_count": null,
   "metadata": {
    "collapsed": false
   },
   "outputs": [],
   "source": [
    "#end-of-file"
   ]
  }
 ],
 "metadata": {
  "anaconda-cloud": {},
  "kernelspec": {
   "display_name": "Python 3",
   "language": "python",
   "name": "python3"
  },
  "language_info": {
   "codemirror_mode": {
    "name": "ipython",
    "version": 3
   },
   "file_extension": ".py",
   "mimetype": "text/x-python",
   "name": "python",
   "nbconvert_exporter": "python",
   "pygments_lexer": "ipython3",
   "version": "3.5.3"
  }
 },
 "nbformat": 4,
 "nbformat_minor": 2
}
